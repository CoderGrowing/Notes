{
 "cells": [
  {
   "cell_type": "markdown",
   "metadata": {},
   "source": [
    "# 装饰器\n",
    "装饰器用于在源码“标记”函数，以某种方式增强函数的行为。装饰器是可调用的对象，其参数是另一个函数(被装饰的函数)。例如：\n",
    "```python\n",
    "@decorate\n",
    "def target():\n",
    "    print(\"running target\")\n",
    "```\n",
    "它的行为和下列代码一致：\n",
    "```python\n",
    "def target():\n",
    "    print (\"running target\")\n",
    "    \n",
    "target = decorate(target)\n",
    "```\n",
    "装饰器通常接受函数后对其进行一些额外操作，而后返回该函数或者将其替换为另一个函数并返回。"
   ]
  },
  {
   "cell_type": "code",
   "execution_count": 5,
   "metadata": {},
   "outputs": [
    {
     "name": "stdout",
     "output_type": "stream",
     "text": [
      "running inner\n"
     ]
    }
   ],
   "source": [
    "def deco(func):\n",
    "    def inner():\n",
    "        print (\"running inner\")\n",
    "    return inner                             # 返回值为函数：inner\n",
    "\n",
    "@deco\n",
    "def target():\n",
    "    print (\"running target()\")\n",
    "target()                           # 输出的却是inner，因为此时target已经变成了inner的引用。"
   ]
  },
  {
   "cell_type": "markdown",
   "metadata": {},
   "source": [
    "### 装饰器的执行\n",
    "Python代码中处处可见 `if __name__ == '__main__:'`的写法，目的就是为了保证代码是在**明确运行时执行**，而不是**作为模块导入时执行。**\n",
    "而Python装饰器的一个关键特性就是，他们在被装饰的函数定义之后立即运行，也就是说即使当做模块导入，装饰器还是会执行。\n"
   ]
  },
  {
   "cell_type": "markdown",
   "metadata": {},
   "source": [
    "### 变量作用域\n",
    "每个变量能起作用的范围是有限的，比如变量在函数内定义，那它的作用域就只是这个函数；如果在程序主体内定义，那它就是一个全局变量，类似于JS中`var`和`let`的区别。"
   ]
  },
  {
   "cell_type": "code",
   "execution_count": 6,
   "metadata": {},
   "outputs": [
    {
     "name": "stdout",
     "output_type": "stream",
     "text": [
      "3\n",
      "6\n"
     ]
    }
   ],
   "source": [
    "def f1(a):\n",
    "    print(a)\n",
    "    print(b)\n",
    "    \n",
    "b = 6\n",
    "f1(3)"
   ]
  },
  {
   "cell_type": "markdown",
   "metadata": {},
   "source": [
    "函数可以取得b的值，这点很正常，b是一个全局变量。"
   ]
  },
  {
   "cell_type": "code",
   "execution_count": 7,
   "metadata": {},
   "outputs": [
    {
     "name": "stdout",
     "output_type": "stream",
     "text": [
      "3\n"
     ]
    },
    {
     "ename": "UnboundLocalError",
     "evalue": "local variable 'b' referenced before assignment",
     "output_type": "error",
     "traceback": [
      "\u001b[1;31m---------------------------------------------------------------------------\u001b[0m",
      "\u001b[1;31mUnboundLocalError\u001b[0m                         Traceback (most recent call last)",
      "\u001b[1;32m<ipython-input-7-d8ee508c46e0>\u001b[0m in \u001b[0;36m<module>\u001b[1;34m()\u001b[0m\n\u001b[0;32m      5\u001b[0m     \u001b[0mb\u001b[0m \u001b[1;33m=\u001b[0m \u001b[1;36m9\u001b[0m\u001b[1;33m\u001b[0m\u001b[0m\n\u001b[0;32m      6\u001b[0m \u001b[1;33m\u001b[0m\u001b[0m\n\u001b[1;32m----> 7\u001b[1;33m \u001b[0mf2\u001b[0m\u001b[1;33m(\u001b[0m\u001b[1;36m3\u001b[0m\u001b[1;33m)\u001b[0m\u001b[1;33m\u001b[0m\u001b[0m\n\u001b[0m",
      "\u001b[1;32m<ipython-input-7-d8ee508c46e0>\u001b[0m in \u001b[0;36mf2\u001b[1;34m(a)\u001b[0m\n\u001b[0;32m      2\u001b[0m \u001b[1;32mdef\u001b[0m \u001b[0mf2\u001b[0m\u001b[1;33m(\u001b[0m\u001b[0ma\u001b[0m\u001b[1;33m)\u001b[0m\u001b[1;33m:\u001b[0m\u001b[1;33m\u001b[0m\u001b[0m\n\u001b[0;32m      3\u001b[0m     \u001b[0mprint\u001b[0m\u001b[1;33m(\u001b[0m\u001b[0ma\u001b[0m\u001b[1;33m)\u001b[0m\u001b[1;33m\u001b[0m\u001b[0m\n\u001b[1;32m----> 4\u001b[1;33m     \u001b[0mprint\u001b[0m\u001b[1;33m(\u001b[0m\u001b[0mb\u001b[0m\u001b[1;33m)\u001b[0m\u001b[1;33m\u001b[0m\u001b[0m\n\u001b[0m\u001b[0;32m      5\u001b[0m     \u001b[0mb\u001b[0m \u001b[1;33m=\u001b[0m \u001b[1;36m9\u001b[0m\u001b[1;33m\u001b[0m\u001b[0m\n\u001b[0;32m      6\u001b[0m \u001b[1;33m\u001b[0m\u001b[0m\n",
      "\u001b[1;31mUnboundLocalError\u001b[0m: local variable 'b' referenced before assignment"
     ]
    }
   ],
   "source": [
    "b = 6\n",
    "def f2(a):\n",
    "    print(a)\n",
    "    print(b)\n",
    "    b = 9\n",
    "    \n",
    "f2(3)"
   ]
  },
  {
   "cell_type": "markdown",
   "metadata": {},
   "source": [
    "居然失败了！b不是全局变量么？问题在于我们在函数中对b进行了赋值，Python解释器把b当做局部变量了。Python假定在函数内赋值的变量为局部变量。如果想要更改这个行为，可以用global声明。"
   ]
  },
  {
   "cell_type": "code",
   "execution_count": 8,
   "metadata": {},
   "outputs": [
    {
     "name": "stdout",
     "output_type": "stream",
     "text": [
      "3\n",
      "6\n"
     ]
    }
   ],
   "source": [
    "b = 6\n",
    "def f2(a):\n",
    "    global b\n",
    "    print(a)\n",
    "    print(b)\n",
    "    b = 9\n",
    "    \n",
    "f2(3)"
   ]
  },
  {
   "cell_type": "markdown",
   "metadata": {},
   "source": [
    "### 闭包\n",
    "**闭包指延伸了作用域的函数，其中包含函数定义体中引用、但是不在定义体中定义的非全局变量。关键在于它能访问定义体之外的非全局变量。**"
   ]
  },
  {
   "cell_type": "code",
   "execution_count": 18,
   "metadata": {},
   "outputs": [
    {
     "name": "stdout",
     "output_type": "stream",
     "text": [
      "10.0\n",
      "11.0\n"
     ]
    }
   ],
   "source": [
    "def make_average():\n",
    "    series = []\n",
    "    \n",
    "    def average(new_value):\n",
    "        series.append(new_value)\n",
    "        total = sum(series)\n",
    "        return total/len(series)\n",
    "    return average\n",
    "\n",
    "avg = make_average()\n",
    "print(avg(10))\n",
    "print(avg(12))"
   ]
  },
  {
   "cell_type": "markdown",
   "metadata": {},
   "source": [
    "执行过一次函数后，我们第一次添加的10.0的值还在series中，可make_average函数已经返回了啊，它的作用域也已经消失了。\n",
    "\n",
    "这里就出现了闭包，在average函数中，series是*自由变量(free variable)*，指未在本地作用域绑定的变量。"
   ]
  },
  {
   "cell_type": "code",
   "execution_count": 20,
   "metadata": {},
   "outputs": [
    {
     "name": "stdout",
     "output_type": "stream",
     "text": [
      "('new_value', 'total')\n",
      "('series',)\n"
     ]
    }
   ],
   "source": [
    "print(avg.__code__.co_varnames)\n",
    "print(avg.__code__.co_freevars)"
   ]
  },
  {
   "cell_type": "markdown",
   "metadata": {},
   "source": [
    "通过Python中的`__code__`属性可以查看函数的变量，如上所示，`series`是一个自由变量。它保存在返回的avg函数的`__closure__`属性中。`__closure__`中的各个元素对应`avg.__code__.co_freevars`中的一个名称。这些元素是一个cell对象，通过元素的cell_contents属性可以查看真正的值。"
   ]
  },
  {
   "cell_type": "code",
   "execution_count": 27,
   "metadata": {},
   "outputs": [
    {
     "data": {
      "text/plain": [
       "[10, 12]"
      ]
     },
     "execution_count": 27,
     "metadata": {},
     "output_type": "execute_result"
    }
   ],
   "source": [
    "avg.__closure__[0].cell_contents"
   ]
  },
  {
   "cell_type": "markdown",
   "metadata": {},
   "source": [
    "### nonlocal声明\n",
    "上例的函数不太完美，每次调用都需要重新计算列表的所有元素之和，更好的办法是只存储个数和目前的和。"
   ]
  },
  {
   "cell_type": "code",
   "execution_count": 1,
   "metadata": {},
   "outputs": [
    {
     "data": {
      "text/plain": [
       "('new_value', 'count', 'total')"
      ]
     },
     "execution_count": 1,
     "metadata": {},
     "output_type": "execute_result"
    }
   ],
   "source": [
    "def make_average():\n",
    "    count = 0\n",
    "    total = 0\n",
    "    \n",
    "    def average(new_value):\n",
    "        count += 1\n",
    "        total += new_value\n",
    "        return total/count\n",
    "    return average\n",
    "\n",
    "avg = make_average()\n",
    "avg.__code__.co_varnames"
   ]
  },
  {
   "cell_type": "markdown",
   "metadata": {},
   "source": [
    "这样写效率会高很多，但调用却会失败。。原因很简单，就是我们在函数内更改了count和total的值，Python把它们两个当做`average`函数的本地变量了。那怎么处理呢？如果count和total是全局变量，我们可以用globle关键字，但count和total并不是，它们是make_average函数的局部变量。\n",
    "\n",
    "Python3新引入了nonlocal关键字，可以把变量标记为自由变量，可以解决这个问题。"
   ]
  },
  {
   "cell_type": "code",
   "execution_count": 29,
   "metadata": {},
   "outputs": [
    {
     "data": {
      "text/plain": [
       "10.0"
      ]
     },
     "execution_count": 29,
     "metadata": {},
     "output_type": "execute_result"
    }
   ],
   "source": [
    "def make_average():\n",
    "    count = 0\n",
    "    total = 0\n",
    "    \n",
    "    def average(new_value):\n",
    "        nonlocal count, total\n",
    "        count += 1\n",
    "        total += new_value\n",
    "        return total/count\n",
    "    return average\n",
    "\n",
    "avg = make_average()\n",
    "avg(10)"
   ]
  },
  {
   "cell_type": "markdown",
   "metadata": {},
   "source": [
    "## 标准库中的装饰器\n",
    "**functools.lru_cache做备忘**\n",
    "\n",
    "functools.lru_cache实现了备忘(memoizaion)功能，把耗时的函数的结果保存起来，传入相同参数时直接使用缓存的结果，避免再次运算。LRU:Last Recently Used的缩写。下边拿经典的指数复杂度的递归斐波那契数列方法举例子："
   ]
  },
  {
   "cell_type": "code",
   "execution_count": 31,
   "metadata": {},
   "outputs": [
    {
     "data": {
      "text/plain": [
       "8"
      ]
     },
     "execution_count": 31,
     "metadata": {},
     "output_type": "execute_result"
    }
   ],
   "source": [
    "import functools\n",
    "\n",
    "@functools.lru_cache()                                # 必须像常规函数一样调用lru_cache，加括号！\n",
    "def fib(n):\n",
    "    if n < 2:\n",
    "        return n\n",
    "    else:\n",
    "        return fib(n-1) + fib(n-2)\n",
    "fib(6)"
   ]
  },
  {
   "cell_type": "markdown",
   "metadata": {},
   "source": [
    "**单分派泛函数**\n",
    "\n",
    "由于Python不支持函数重载，所以当我们需要根据参数的不同定义不同行为时，通常会使用if/else判断。但这种方法并不佳。我们可以使用Python3.4新增的functools.singledispatch装饰器将整体方案拆分，形成类似重载的效果。"
   ]
  },
  {
   "cell_type": "code",
   "execution_count": 38,
   "metadata": {},
   "outputs": [
    {
     "name": "stdout",
     "output_type": "stream",
     "text": [
      "hello, int to you 5\n",
      "hello, i'm str\n"
     ]
    }
   ],
   "source": [
    "from functools import singledispatch\n",
    "from collections import abc\n",
    "\n",
    "@singledispatch                               #为其他函数不处理的基本类型定义处理方法\n",
    "def total(obj):\n",
    "    return \"hello, int to you \" + str(obj)\n",
    "\n",
    "@total.register(str)                         # 使用@base_funciton.register(type)方法注册\n",
    "def _(text):                                 # 函数名不重要，什么都可以\n",
    "    return \"hello, i'm str\"\n",
    "\n",
    "@total.register(tuple)\n",
    "@total.register(abc.MutableSequence)         # 最好处理抽象基类，如number.Integral这些\n",
    "def _(seq):\n",
    "    return \"Hello, i'm mutablesequence\"\n",
    "\n",
    "print (total(5))\n",
    "print (total('5'))"
   ]
  },
  {
   "cell_type": "markdown",
   "metadata": {},
   "source": [
    "### 叠加装饰器\n",
    "一个函数可以被多个装饰器所装饰，注意装饰器的顺序非常重要！例如如下代码：\n",
    "```python\n",
    "@d1\n",
    "@d2\n",
    "def f():\n",
    "    print('f')\n",
    "```\n",
    "等同于：`f = d1(d2(f))`"
   ]
  },
  {
   "cell_type": "markdown",
   "metadata": {},
   "source": [
    "### 参数化装饰器\n",
    "装饰器除了接收被装饰的函数作为第一个参数，还可以接收其他参数。如何做到？创建一个装饰器工厂函数，把参数传给它，返回一个装饰器，然后把它应用到要装饰的函数上。"
   ]
  },
  {
   "cell_type": "code",
   "execution_count": 15,
   "metadata": {},
   "outputs": [
    {
     "name": "stdout",
     "output_type": "stream",
     "text": [
      "choosed!\n",
      "Not choose.\n"
     ]
    }
   ],
   "source": [
    "def param_deco(choose=False):                 # 装饰器工厂函数\n",
    "    def decorate(func):                       # 装饰器\n",
    "        if choose:                            # 闭包！choose从定义体外获得，非全局变量   \n",
    "            print(\"choosed!\")\n",
    "        else:\n",
    "            print (\"Not choose.\")\n",
    "        return func                           # 装饰器返回一个函数\n",
    "    return decorate                           # 装饰器工厂函数返回装饰器\n",
    "\n",
    "@param_deco(choose=True)                      \n",
    "def f1():\n",
    "    print(\"You are choosed!\")\n",
    "    \n",
    "@param_deco()                                 # 现在即使不传入参数，也要当做函数调用，加括号\n",
    "def f2():\n",
    "    print(\"You are not choosed. Sorry for you.\")"
   ]
  }
 ],
 "metadata": {
  "kernelspec": {
   "display_name": "Python 3",
   "language": "python",
   "name": "python3"
  },
  "language_info": {
   "codemirror_mode": {
    "name": "ipython",
    "version": 3
   },
   "file_extension": ".py",
   "mimetype": "text/x-python",
   "name": "python",
   "nbconvert_exporter": "python",
   "pygments_lexer": "ipython3",
   "version": "3.6.3"
  }
 },
 "nbformat": 4,
 "nbformat_minor": 2
}

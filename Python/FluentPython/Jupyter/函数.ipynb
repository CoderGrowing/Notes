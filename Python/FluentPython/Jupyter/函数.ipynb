{
 "cells": [
  {
   "cell_type": "markdown",
   "metadata": {},
   "source": [
    "# 函数\n",
    "本文是《流畅的Python》第五章的笔记。\n",
    "\n",
    "## 一等对象\n",
    "在Python中函数是一等对象。所谓的一等对象就是满足下列条件的程序实体：\n",
    "- 在运行时创建\n",
    "- 能赋值给变量或数据结构中的元素\n",
    "- 能作为参数传递给函数\n",
    "- 能作为函数的返回结果\n",
    "\n",
    "在Python中，整数、字符串、列表、字典等等内置数据结构都是一等对象。\n",
    "\n",
    "## 高阶函数\n",
    "接收函数作为参数，或者把函数作为返回结果的函数是高阶函数(higher-order function)。比如内置的map、sorted、filter等函数都是高阶函数。\n",
    "\n",
    "### map\n",
    "`map(func, iterable)`\n",
    "\n",
    "map函数接收两个参数，一个是函数名字，一个是可迭代的对象。map将参数中的函数分别作用于可迭代对象的每一个元素上，并返回一个map对象。通过`list`或者`tuple`方法将其序列化即可得到结果序列。"
   ]
  },
  {
   "cell_type": "code",
   "execution_count": 8,
   "metadata": {},
   "outputs": [
    {
     "name": "stdout",
     "output_type": "stream",
     "text": [
      "<map object at 0x00FB26D0>\n",
      "[3, 6, 9]\n"
     ]
    }
   ],
   "source": [
    "def triple(num):\n",
    "    return num * 3\n",
    "print(map(triple, [1, 2, 3]))\n",
    "print(list(map(triple, [1, 2, 3])))"
   ]
  },
  {
   "cell_type": "markdown",
   "metadata": {},
   "source": [
    "### reduce\n",
    "`reduce(func, iterable)`\n",
    "\n",
    "reduce函数同样接收一个函数和一个可迭代对象作为参数。reduce将函数作用于序列的元素上，并把结果继续和下一个元素做运算，最终规约为一个值。由此，传递给reduce的函数必须接收两个参数：使用两个元素做第一次运算，再将结果作为一个元素和下一个元素继续运算……\n",
    "\n",
    "**reduce在Python2中是内置函数，但是Python3将reduce移到了functools模块中，使用前必须先导入**"
   ]
  },
  {
   "cell_type": "code",
   "execution_count": 11,
   "metadata": {},
   "outputs": [
    {
     "data": {
      "text/plain": [
       "15"
      ]
     },
     "execution_count": 11,
     "metadata": {},
     "output_type": "execute_result"
    }
   ],
   "source": [
    "from functools import reduce\n",
    "def add_a_b(a, b):\n",
    "    return a + b\n",
    "\n",
    "reduce(add_a_b, [1,2,3,4,5])"
   ]
  },
  {
   "cell_type": "markdown",
   "metadata": {},
   "source": [
    "### filter\n",
    "filter函数用于过滤序列。filter函数参数和上述两个函数一模一样，只是filter将传入的函数作为条件，根据返回值为True还是False判断是否保留序列中的元素。filter函数返回值也是一个filter对象，需要将其序列化才能看到值的情况。"
   ]
  },
  {
   "cell_type": "code",
   "execution_count": 17,
   "metadata": {},
   "outputs": [
    {
     "data": {
      "text/plain": [
       "[2, 4, 6, 8, 10]"
      ]
     },
     "execution_count": 17,
     "metadata": {},
     "output_type": "execute_result"
    }
   ],
   "source": [
    "list(filter(lambda x: x % 2 == 0, range(1,11)))"
   ]
  },
  {
   "cell_type": "markdown",
   "metadata": {},
   "source": [
    "### 匿名函数\n",
    "上边的一行表达式除了filter还用到了匿名函数lambda。Python对匿名函数有较多的限制，只能使用纯表达式。如在匿名函数中不能赋值，不能使用while等语句。除此之外，匿名函数就是一个没有名称的函数，没什么特别。当一个函数不需要显示定义被多次重用时，匿名函数更加方便。\n",
    "\n",
    "上述的`lambda x: x % 2 == 0`其实就相当于：\n",
    "```python\n",
    "def foo(x):\n",
    "   return x % 2 == 0\n",
    "```\n",
    "除了作为参数传递给高阶函数外，Python很少使用匿名函数。事实上，因为匿名函数的可读性不高，我们也应该尽量避免使用匿名函数。\n",
    "\n",
    "利用Python的列表推导和生成器表达式可以替换大多数的高阶函数与匿名函数结合的代码。比如过滤1-10中的偶数："
   ]
  },
  {
   "cell_type": "code",
   "execution_count": 23,
   "metadata": {},
   "outputs": [
    {
     "data": {
      "text/plain": [
       "[2, 4, 6, 8, 10]"
      ]
     },
     "execution_count": 23,
     "metadata": {},
     "output_type": "execute_result"
    }
   ],
   "source": [
    "[n for n in range(1,11) if n%2 == 0]"
   ]
  },
  {
   "cell_type": "markdown",
   "metadata": {},
   "source": [
    "## 函数参数\n",
    "\n",
    "在代码中我们最常见到的是*定位参数*，也就是靠传入实参的位置来分别给形参赋值。在Python3中，Python新增了*仅限关键字参数(keyword-only argument)*。\n",
    "顾名思义，就是只能通过指定关键字传值的参数。"
   ]
  },
  {
   "cell_type": "code",
   "execution_count": 21,
   "metadata": {},
   "outputs": [],
   "source": [
    "def f(a, *, b):\n",
    "    return a + b"
   ]
  },
  {
   "cell_type": "markdown",
   "metadata": {},
   "source": [
    "如果还是正常的传入参数，Python会报错`TypeError: f() takes 1 positional argument but 2 were given`。这里的`b`就是关键字参数，它必须显式的指定才能够传入值，否则不管传入几个值，第二个及以后的都会被`*`接收。"
   ]
  },
  {
   "cell_type": "code",
   "execution_count": 20,
   "metadata": {},
   "outputs": [
    {
     "data": {
      "text/plain": [
       "4"
      ]
     },
     "execution_count": 20,
     "metadata": {},
     "output_type": "execute_result"
    }
   ],
   "source": [
    "f(1, b=3)"
   ]
  },
  {
   "cell_type": "markdown",
   "metadata": {},
   "source": [
    "那如果想要指定a,b都是仅限关键字参数呢？很简单，把`*`放在最前面就可以了。`def f(*, a, b)`"
   ]
  },
  {
   "cell_type": "markdown",
   "metadata": {},
   "source": [
    "### 函数注解\n",
    "Python3提供了对函数注解的语法，用来在函数声明中指明函数的参数类型和返回值类型。\n",
    "\n",
    "```python\n",
    "def demo(text, number):\n",
    "    result = text + str(number)\n",
    "    return result\n",
    "```\n",
    "注解后的版本："
   ]
  },
  {
   "cell_type": "code",
   "execution_count": 3,
   "metadata": {},
   "outputs": [],
   "source": [
    "def demo_note(text:str, number:\"int > 0\"=100) -> str:\n",
    "    result = text + str(number)\n",
    "    return result"
   ]
  },
  {
   "cell_type": "markdown",
   "metadata": {},
   "source": [
    "函数声明的各个参数可以用冒号(:)来添加注解。如果参数有默认值的话，注解放在参数名和=之间。返回值的注解是在函数声明末尾和：之间添加->表达式。注解一般用类型(int或者str)或者字符串(int > 0)。\n",
    "\n",
    "函数注解并不会做任何处理，只是把注解存储在函数的`__annotations__`属性中。"
   ]
  },
  {
   "cell_type": "code",
   "execution_count": 4,
   "metadata": {},
   "outputs": [
    {
     "data": {
      "text/plain": [
       "{'number': 'int > 0', 'return': str, 'text': str}"
      ]
     },
     "execution_count": 4,
     "metadata": {},
     "output_type": "execute_result"
    }
   ],
   "source": [
    "demo_note.__annotations__"
   ]
  },
  {
   "cell_type": "markdown",
   "metadata": {},
   "source": [
    "### 提取函数信息\n",
    "函数有一个`__default__`属性，保存着函数的定位参数和关键字参数的默认值。仅限关键字参数在`__kwdefaults__`属性中。参数的名称在`__code__`中。"
   ]
  },
  {
   "cell_type": "markdown",
   "metadata": {},
   "source": [
    "## operator和functools模块\n",
    "operator模块提供了多个运算符对应的函数，比如`+`对应`add()`函数、`+=`对应`iadd`函数……利用这些函数可以进行写出类似于函数编程风格的代码。"
   ]
  },
  {
   "cell_type": "markdown",
   "metadata": {},
   "source": [
    "### operator.itemgetter\n",
    "除了运算符函数，operator模块中还有一类函数，可以从序列中读取元素或者读取元素对象属性。因此，`itemgetter`和`attrgetter`函数其实可以根据我们传递的值自行构建函数。"
   ]
  },
  {
   "cell_type": "code",
   "execution_count": 26,
   "metadata": {},
   "outputs": [
    {
     "name": "stdout",
     "output_type": "stream",
     "text": [
      "('world', 'zh', (55, 88))\n",
      "[('world', 'zh', (55, 88)), ('hello', 'jp', (35, 25))]\n"
     ]
    }
   ],
   "source": [
    "# 利用itemgetter对元组列表排序\n",
    "from operator import itemgetter\n",
    "\n",
    "data = [('hello', 'jp', (35, 25)), ('world', 'zh', (55, 88))]\n",
    "one = itemgetter(1)\n",
    "print(one(data))\n",
    "\n",
    "print(sorted(data, key=one, reverse=True))"
   ]
  },
  {
   "cell_type": "markdown",
   "metadata": {},
   "source": [
    "stackoverflow上有个问题是[如何用字典排序](https://stackoverflow.com/questions/613183/how-do-i-sort-a-dictionary-by-value)。排名第一的答案给出的结果就是利用`operator.itemgetter`函数：\n",
    "```python\n",
    "import operator\n",
    "x = {1: 2, 3: 4, 4: 3, 2: 1, 0: 0}\n",
    "sorted_x = sorted(x.items(), key=operator.itemgetter(1))\n",
    "```"
   ]
  },
  {
   "cell_type": "markdown",
   "metadata": {},
   "source": [
    "### functools.partial\n",
    "functools模块提供了一系列的高阶函数，其中functools.partial函数的作用是“冻结”函数参数。它基于一个函数创建一个新的可调用对象，把原函数的某些参数固定，这样改编后的函数所需要的参数更少。"
   ]
  },
  {
   "cell_type": "code",
   "execution_count": 28,
   "metadata": {},
   "outputs": [
    {
     "data": {
      "text/plain": [
       "21"
      ]
     },
     "execution_count": 28,
     "metadata": {},
     "output_type": "execute_result"
    }
   ],
   "source": [
    "from operator import mul\n",
    "from functools import partial\n",
    "\n",
    "#重写triple函数\n",
    "triple = partial(mul, 3)\n",
    "triple(7)"
   ]
  }
 ],
 "metadata": {
  "kernelspec": {
   "display_name": "Python 3",
   "language": "python",
   "name": "python3"
  },
  "language_info": {
   "codemirror_mode": {
    "name": "ipython",
    "version": 3
   },
   "file_extension": ".py",
   "mimetype": "text/x-python",
   "name": "python",
   "nbconvert_exporter": "python",
   "pygments_lexer": "ipython3",
   "version": "3.6.3"
  }
 },
 "nbformat": 4,
 "nbformat_minor": 2
}

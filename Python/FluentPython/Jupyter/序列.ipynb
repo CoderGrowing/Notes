{
 "cells": [
  {
   "cell_type": "markdown",
   "metadata": {},
   "source": [
    "# 序列类型\n",
    "Python内置了强大的数据结构，除了基本的数值类型和布尔值外，Python还有各种集合类型，包含了：序列(sequence)、映射(mapping)和集合(set)。\n",
    "\n",
    "序列类型可分为两大类：\n",
    "1. 容器序列 \n",
    "`list`、`tuple`、`collections.deque`等这些**能存放不同类型的数据**。\n",
    "2. 扁平序列\n",
    "`str`、`bytes`、`bytearray`、`memoryview`、`array.array`等**只能存放一种数据类型**。\n",
    "\n",
    "按照能否被修改还可以分为可变或不可变类型。\n",
    "1. 可变序列 \n",
    "`list`、`collections.deque`、`bytearray`、`memoryview`、`array.array`等。\n",
    "\n",
    "2. 不可变序列\n",
    "`str`、`bytes`和`tuple`。"
   ]
  },
  {
   "cell_type": "markdown",
   "metadata": {},
   "source": [
    "**可变与不可变**\n",
    "\n",
    "但是`str`不是可变类型么？`stra = strb + 'hello'`这样的表达式不是很常用么？\n",
    "其实并不是这样的，当你执行上面得表达式的时候，python会为重新创建新的对象，并将`stra`指向该对象。"
   ]
  },
  {
   "cell_type": "code",
   "execution_count": 1,
   "metadata": {},
   "outputs": [
    {
     "name": "stdout",
     "output_type": "stream",
     "text": [
      "132518560\n",
      "132503096\n"
     ]
    }
   ],
   "source": [
    "stra = 'hello'\n",
    "print (id(stra))\n",
    "\n",
    "stra += 'world'\n",
    "print (id(stra))"
   ]
  },
  {
   "cell_type": "markdown",
   "metadata": {},
   "source": [
    "可以看到`stra`已经不是原来的那个`stra`了。下边再来看看可变类型。"
   ]
  },
  {
   "cell_type": "code",
   "execution_count": 3,
   "metadata": {},
   "outputs": [
    {
     "name": "stdout",
     "output_type": "stream",
     "text": [
      "132840184\n",
      "132840184\n",
      "132953232\n"
     ]
    }
   ],
   "source": [
    "a = ['hello']\n",
    "print(id(a))\n",
    "a += ['world']\n",
    "print (id(a))\n",
    "\n",
    "a = a+['test']\n",
    "print (id(a))"
   ]
  },
  {
   "cell_type": "markdown",
   "metadata": {},
   "source": [
    "可以看到当执行`+=`操作时，可变类型list并未没有生成新的对象。但到了下边执行赋值操作时，还是重新生成了新的对象。"
   ]
  },
  {
   "cell_type": "markdown",
   "metadata": {},
   "source": [
    "**+= 和 = 赋值操作的区别**\n",
    "\n",
    "对于可变对象而言，+=操作并不会改变改变原对象，只是会就地操作。而对于不可变对象，Python会建立新的对象，并将其与当前变量关联。而=赋值操作则都会建立新的对象。"
   ]
  },
  {
   "cell_type": "markdown",
   "metadata": {},
   "source": [
    "### 列表推导\n",
    "列表推导可以方便的生成我们需要的列表格式。"
   ]
  },
  {
   "cell_type": "code",
   "execution_count": 2,
   "metadata": {},
   "outputs": [
    {
     "name": "stdout",
     "output_type": "stream",
     "text": [
      "[0, 1, 4, 9, 16, 25, 36, 49, 64, 81]\n"
     ]
    }
   ],
   "source": [
    "# 生成从0到10的x的平方的列表\n",
    "a = [x*x for x in range(10)]\n",
    "print (a)"
   ]
  },
  {
   "cell_type": "markdown",
   "metadata": {},
   "source": [
    "甚至还可以用于多个for循环的情况。"
   ]
  },
  {
   "cell_type": "code",
   "execution_count": 3,
   "metadata": {},
   "outputs": [
    {
     "name": "stdout",
     "output_type": "stream",
     "text": [
      "[('black', 's'), ('white', 's'), ('black', 'm'), ('white', 'm'), ('black', 'l'), ('white', 'l')]\n"
     ]
    }
   ],
   "source": [
    "colors = ['black', 'white']\n",
    "sizes = ['s', 'm', 'l']\n",
    "tshirts = [(color, size) for size in sizes\n",
    "                         for color in colors]\n",
    "print(tshirts)"
   ]
  },
  {
   "cell_type": "markdown",
   "metadata": {},
   "source": [
    "在列表推导中python会忽略换行。"
   ]
  },
  {
   "cell_type": "markdown",
   "metadata": {},
   "source": [
    "### 生成器\n",
    "生成器在形式上类似于列表推导，只是适用的范围更广，生成器还可以用来推导元组、数组等。当然，更大的差别是，生成器遵守了迭代器协议，可以逐个的产出元素，而不是像循环那样一次建立一个完整的迭代对象。要想写出生成器表达式，只需要将列表推倒的方括号换为圆括号就好。"
   ]
  },
  {
   "cell_type": "code",
   "execution_count": 6,
   "metadata": {},
   "outputs": [
    {
     "name": "stdout",
     "output_type": "stream",
     "text": [
      "<class 'generator'>\n",
      "<generator object <genexpr> at 0x07F0D900>\n"
     ]
    },
    {
     "data": {
      "text/plain": [
       "0"
      ]
     },
     "execution_count": 6,
     "metadata": {},
     "output_type": "execute_result"
    }
   ],
   "source": [
    "tuple_a = (x*x for x in range(10))\n",
    "print(type(tuple_a))\n",
    "print(tuple_a)\n",
    "next(tuple_a)"
   ]
  },
  {
   "cell_type": "markdown",
   "metadata": {},
   "source": [
    "另一种写出生成器的方法是利用`yield`关键字。一旦一个函数含有`yield`关键字，这个函数就变成了一个生成器。"
   ]
  },
  {
   "cell_type": "code",
   "execution_count": 11,
   "metadata": {},
   "outputs": [
    {
     "name": "stdout",
     "output_type": "stream",
     "text": [
      "<class 'generator'>\n"
     ]
    },
    {
     "data": {
      "text/plain": [
       "0"
      ]
     },
     "execution_count": 11,
     "metadata": {},
     "output_type": "execute_result"
    }
   ],
   "source": [
    "def generator_test():\n",
    "    for i in range(10):\n",
    "        yield i\n",
    "\n",
    "print(type(generator_test()))\n",
    "next(generator_test())"
   ]
  },
  {
   "cell_type": "markdown",
   "metadata": {},
   "source": [
    "### sort()和sorted()方法\n",
    "`sort()`方法用于就地排序一个列表，并返回None。注意**只有列表类型可以调用这个方法**。"
   ]
  },
  {
   "cell_type": "code",
   "execution_count": 13,
   "metadata": {},
   "outputs": [
    {
     "name": "stdout",
     "output_type": "stream",
     "text": [
      "[1, 3, 5, 7, 8, 10]\n"
     ]
    }
   ],
   "source": [
    "a = [10,8,1,3,5,7]\n",
    "a.sort()\n",
    "print(a)"
   ]
  },
  {
   "cell_type": "markdown",
   "metadata": {},
   "source": [
    "注意这个排序是原地排序，也就是说并不会创建对象的副本。而且方法返回None，并不是排序后的数组。\n",
    "\n",
    "`sorted()`方法可以接受**任意的可迭代对象作为参数**，并返回排序后的列表。无论它接收什么可迭代的参数，都会返回列表。"
   ]
  },
  {
   "cell_type": "code",
   "execution_count": 14,
   "metadata": {},
   "outputs": [
    {
     "name": "stdout",
     "output_type": "stream",
     "text": [
      "[1, 3, 5, 7, 8, 10]\n",
      "[1, 3, 5, 7, 8, 10]\n"
     ]
    }
   ],
   "source": [
    "a = [10,8,1,5,3,7]\n",
    "print(sorted(a))\n",
    "\n",
    "b = tuple(a)\n",
    "print(sorted(b))"
   ]
  },
  {
   "cell_type": "markdown",
   "metadata": {},
   "source": [
    "这两个函数都有两个可选参数。`reverse`：设定为True，则按照降序排列。`key`：作为排序的依据，一个只有一个参数的函数。比如将其设定为key=len则按照字符串长度排序。"
   ]
  },
  {
   "cell_type": "code",
   "execution_count": 18,
   "metadata": {},
   "outputs": [
    {
     "name": "stdout",
     "output_type": "stream",
     "text": [
      "['aaaaaaa', 'World', 'Hell', 'zzz']\n"
     ]
    }
   ],
   "source": [
    "a = ['Hell', 'World', 'zzz', 'aaaaaaa']\n",
    "print (sorted(a, reverse=True, key=len))"
   ]
  },
  {
   "cell_type": "markdown",
   "metadata": {},
   "source": [
    "### bisect模块"
   ]
  },
  {
   "cell_type": "markdown",
   "metadata": {},
   "source": [
    "bisect模块主要包含两个函数，bisect和insert。两个函数都是利用二分查找算法在**有序**序列中查找或插入元素。\n",
    "\n",
    "**bisect.bisect(haystack, needle)** \n",
    "\n",
    "在干草垛(haystack)中找针(needle)的位置，该位置保证把needle的值插入后序列仍为升序，并返回该位置的值。"
   ]
  },
  {
   "cell_type": "code",
   "execution_count": 3,
   "metadata": {},
   "outputs": [
    {
     "name": "stdout",
     "output_type": "stream",
     "text": [
      "3 4\n"
     ]
    }
   ],
   "source": [
    "import bisect\n",
    "haystack = [1, 7, 9, 20, 25, 30, 32, 33]\n",
    "position1 = bisect.bisect(haystack, 12)\n",
    "position2 = bisect.bisect(haystack, 20)\n",
    "print(position1, position2)"
   ]
  },
  {
   "cell_type": "markdown",
   "metadata": {},
   "source": [
    "在值相同的情况下，bisect将20插入到了原值的右边，也可以利用bisect_left函数插入到原值左边。"
   ]
  },
  {
   "cell_type": "code",
   "execution_count": 5,
   "metadata": {},
   "outputs": [
    {
     "name": "stdout",
     "output_type": "stream",
     "text": [
      "3\n"
     ]
    }
   ],
   "source": [
    "haystack = [1, 7, 9, 20, 25, 30, 32, 33]\n",
    "position = bisect.bisect_left(haystack, 20)\n",
    "print(position)"
   ]
  },
  {
   "cell_type": "markdown",
   "metadata": {},
   "source": [
    "**bisect.insort(seq, item)**\n",
    "\n",
    "把变量item插入到序列seq中，并且仍然保持原序列升序。"
   ]
  },
  {
   "cell_type": "code",
   "execution_count": 9,
   "metadata": {},
   "outputs": [
    {
     "name": "stdout",
     "output_type": "stream",
     "text": [
      "[1, 7, 9, 10, 20, 25, 30, 32, 33]\n"
     ]
    }
   ],
   "source": [
    "haystack = [1, 7, 9, 20, 25, 30, 32, 33]\n",
    "bisect.insort(haystack, 10)\n",
    "print (haystack)"
   ]
  },
  {
   "cell_type": "markdown",
   "metadata": {},
   "source": [
    "这个方法类似于sort函数的就地排序，它将item插入到原序列后返回None。同样的，这个方法也可以利用insort_left将值插入到原序列相同值的左边。"
   ]
  },
  {
   "cell_type": "markdown",
   "metadata": {},
   "source": [
    "### 数组\n",
    "当需要一个只包含大量数字的序列时，可以使用数组，底层的C语言实现使得数组比列表更加高效。\n",
    "\n",
    "array.array(typecode, seq)，typecode指定转化为array的类型，一旦指定array类型就不可变。数组支持所有和可变序列一样的操作，如append、pop等。\n",
    "\n",
    "| typecode  | C类型  | Python类型  |\n",
    "| ------------ | ------------ | ------------ |\n",
    "| 'b'  | signed char  | int  |\n",
    "| 'B'  | unsigned char  | int  |\n",
    "|  'u' |  - | unicode  |\n",
    "| 'i'  | signed char  | int  |\n",
    "| 'I'  |  unsigned char | int  |\n",
    "| 'f'  | float  | float  |\n",
    "| 'd'  | double  | double  |"
   ]
  },
  {
   "cell_type": "code",
   "execution_count": 11,
   "metadata": {},
   "outputs": [
    {
     "name": "stdout",
     "output_type": "stream",
     "text": [
      "array('f', [1.0, 2.0, 3.0, 4.0, 5.0])\n"
     ]
    }
   ],
   "source": [
    "import array\n",
    "tup = (1,2,3,4,5)\n",
    "arr = array.array('f', tup)\n",
    "print(arr)"
   ]
  },
  {
   "cell_type": "markdown",
   "metadata": {},
   "source": [
    "### collections.deque\n",
    "collections.deque类是一个双向队列，可以从两端添加或者删除元素。"
   ]
  },
  {
   "cell_type": "code",
   "execution_count": 3,
   "metadata": {},
   "outputs": [
    {
     "name": "stdout",
     "output_type": "stream",
     "text": [
      "deque([0, 1, 2, 3, 4, 5, 6, 7, 8, 9], maxlen=10)\n",
      "deque([-1, 0, 1, 2, 3, 4, 5, 6, 7, 8], maxlen=10)\n"
     ]
    }
   ],
   "source": [
    "import collections\n",
    "dq = collections.deque(range(10), maxlen=10)   # 需要指定队列大小，且一旦指定，队列大小不可变\n",
    "print (dq)\n",
    "\n",
    "dq.appendleft(-1)   #从左边继续添加元素时，会把最右边的元素“挤掉”\n",
    "print (dq)"
   ]
  },
  {
   "cell_type": "markdown",
   "metadata": {},
   "source": [
    "类似于列表，deque也可以进行pop、append、remove、clear等操作，不同的是deque对于appeed和pop这两种操作都提供了从左边操作的方法，即appendleft和popleft。"
   ]
  }
 ],
 "metadata": {
  "kernelspec": {
   "display_name": "Python 3",
   "language": "python",
   "name": "python3"
  },
  "language_info": {
   "codemirror_mode": {
    "name": "ipython",
    "version": 3
   },
   "file_extension": ".py",
   "mimetype": "text/x-python",
   "name": "python",
   "nbconvert_exporter": "python",
   "pygments_lexer": "ipython3",
   "version": "3.6.3"
  }
 },
 "nbformat": 4,
 "nbformat_minor": 2
}
